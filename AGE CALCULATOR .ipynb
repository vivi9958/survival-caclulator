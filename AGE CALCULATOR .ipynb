{
 "cells": [
  {
   "cell_type": "code",
   "execution_count": null,
   "id": "12155ab4",
   "metadata": {},
   "outputs": [],
   "source": [
    "from datetime import date"
   ]
  },
  {
   "cell_type": "code",
   "execution_count": null,
   "id": "408f379c",
   "metadata": {
    "scrolled": true
   },
   "outputs": [],
   "source": [
    "birth_year = (\"please enter your birth year : \")\n",
    "birth_month = (\"please enter your birth month\")\n",
    "birth_day = (\"please enter your birth day\")\n",
    "todays_date = date.today()"
   ]
  },
  {
   "cell_type": "code",
   "execution_count": null,
   "id": "1f4b535d",
   "metadata": {},
   "outputs": [],
   "source": [
    "c = date.today()\n",
    "print(c)"
   ]
  },
  {
   "cell_type": "code",
   "execution_count": 12,
   "id": "becf2fc0",
   "metadata": {},
   "outputs": [
    {
     "name": "stdout",
     "output_type": "stream",
     "text": [
      "please enter your age in years : 17\n",
      "please enter your birth month in numerics eg 1 for jan,2for feb : 6\n",
      "please enter the date on which you were born  : 4\n",
      "enter wether you want to see your total age uptill now in years,months,weeks,days,minutes,or seconds:\n",
      "             \n",
      "             1 for age in years\n",
      "             2 for age in months\n",
      "             3 for age in weeks\n",
      "             4 for age in days\n",
      "             5 for age in hours\n",
      "             6 for age in minutes\n",
      "             7 for age in seconds\n",
      "             7\n",
      "The age in years is the age in seconds is: 544665600\n"
     ]
    }
   ],
   "source": [
    "age_in_year = int(input(\"please enter your age in years : \"))\n",
    "birth_month = int(input(\"please enter your birth month in numerics eg 1 for jan,2for feb : \"))\n",
    "birth_day = int(input(\"please enter the date on which you were born  : \"))\n",
    "a = int(age_in_year)\n",
    "b = int(birth_month)\n",
    "c = int(birth_day)\n",
    "age_in_year = (f\"the age in years is :{age_in_year}\")\n",
    "age_in_months = (f\"the age in months is :{a*12 + b}\")\n",
    "age_in_weeks = (f\"the age in months is :{(a*12 + b)*4}\")\n",
    "age_in_days = (f\"the age in days is :{((a*12 + b)*30)+c}\")\n",
    "age_in_hours = (f\"the age in hours is: {(((a*12 + b)*30)+c)*24}\")\n",
    "age_in_minutes = (f\"the age in minutes  is: {((((a*12 + b)*30)+c)*24)*60}\")\n",
    "age_in_seconds = (f\"the age in seconds is: {(((((a*12 + b)*30)+c)*24)*60)*60}\")\n",
    "\n",
    "'''\n",
    "print(age_in_year)\n",
    "print(age_in_months)\n",
    "print(age_in_weeks)\n",
    "print(age_in_days)\n",
    "print(age_in_hours)\n",
    "print(age_in_minutes)\n",
    "print(age_in_seconds)\n",
    "'''\n",
    "\n",
    "\n",
    "x = int(input('''enter wether you want to see your total age uptill now in years,months,weeks,days,minutes,or seconds:\n",
    "             \n",
    "             1 for age in years\n",
    "             2 for age in months\n",
    "             3 for age in weeks\n",
    "             4 for age in days\n",
    "             5 for age in hours\n",
    "             6 for age in minutes\n",
    "             7 for age in seconds\n",
    "             '''\n",
    "         ))\n",
    "if(x==1):\n",
    "    print(f\"The age in years is {age_in_year}\")\n",
    "elif(x==2):\n",
    "    print(f\"The age in years is {age_in_months}\")\n",
    "elif(x==3):\n",
    "    print(f\"The age in years is {age_in_weeks}\")\n",
    "elif(x==4):\n",
    "    print(f\"The age in years is {age_in_days}\")\n",
    "elif(x==5):\n",
    "    print(f\"The age in years is {age_in_hours}\")\n",
    "elif(x==6):\n",
    "    print(f\"The age in years is {age_in_minutes}\")\n",
    "elif(x==7):\n",
    "    print(f\"The age in years is {age_in_seconds}\")\n",
    "else:\n",
    "    print(\"Invalid input please select from the following options only \")\n",
    "\n",
    "\n",
    "\n"
   ]
  },
  {
   "cell_type": "code",
   "execution_count": null,
   "id": "9e82675b",
   "metadata": {},
   "outputs": [],
   "source": []
  }
 ],
 "metadata": {
  "kernelspec": {
   "display_name": "Python 3 (ipykernel)",
   "language": "python",
   "name": "python3"
  },
  "language_info": {
   "codemirror_mode": {
    "name": "ipython",
    "version": 3
   },
   "file_extension": ".py",
   "mimetype": "text/x-python",
   "name": "python",
   "nbconvert_exporter": "python",
   "pygments_lexer": "ipython3",
   "version": "3.11.4"
  }
 },
 "nbformat": 4,
 "nbformat_minor": 5
}
